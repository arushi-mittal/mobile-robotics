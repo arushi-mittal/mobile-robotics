{
 "cells": [
  {
   "cell_type": "markdown",
   "metadata": {},
   "source": [
    "# Stereo SLAM"
   ]
  },
  {
   "cell_type": "markdown",
   "metadata": {},
   "source": [
    "This is a major part of this project and will likely take some time. \n",
    "\n",
    "For stereo, feel free to look up existing tutorials that implement this and write your own code here. Do not spend too long tweaking parameters here, focus on getting decent results and move on. You can also use OpenCV functions to backproject to 3D. "
   ]
  },
  {
   "cell_type": "markdown",
   "metadata": {},
   "source": [
    "## PART 1: Stereo dense reconstruction\n",
    "\n",
    "3-D point clouds are very useful in robotics for several tasks such as object detection, motion estimation (3D-3D matching or 3D-2D matching), SLAM, and other forms of scene understanding.  Stereo camerasprovide  us  with  a  convenient  way  to  generate  dense  point  clouds.Densehere,  in  contrast  tosparse,means all the image points are used for the reconstruction.  In this part of the assignment you will begenerating a dense 3D point cloud reconstruction of a scene from stereo images.\n",
    "\n",
    "#### Procedure: \n",
    "\n",
    "<ol>\n",
    "    <li> Generate a disparity map for each stereo pair.  Use OpenCV (e.g.  StereoSGBM) for this.  Notethat the images provided are already rectified and undistorted. </li>\n",
    "    <li> Then, using the camera parameters and baseline information generate colored point clouds from each disparity map.  Some points will have invalid disparity values, so ignore them.  Use [Open3D]for storing your point clouds. </li>\n",
    "    <li> Register (or transform) all the generated point clouds into your world frame by using the providedground truth poses. </li>\n",
    "    <li> Visualize the registered point cloud data, in color.  Use Open3D for this </li>\n",
    "</ol>\n",
    "    \n",
    "    \n",
    "Write briefly about how the disparity map is generated (if you used SGBM, write about SGBM)."
   ]
  },
  {
   "cell_type": "code",
   "execution_count": 1,
   "metadata": {},
   "outputs": [
    {
     "name": "stdout",
     "output_type": "stream",
     "text": [
      "Jupyter environment detected. Enabling Open3D WebVisualizer.\n",
      "[Open3D INFO] WebRTC GUI backend enabled.\n",
      "[Open3D INFO] WebRTCWindowSystem: HTTP handshake server disabled.\n"
     ]
    }
   ],
   "source": [
    "import numpy as np \n",
    "import cv2\n",
    "import open3d as o3d\n",
    "import matplotlib.pyplot as plt\n",
    "import scipy\n",
    "import os"
   ]
  },
  {
   "cell_type": "code",
   "execution_count": 2,
   "metadata": {},
   "outputs": [],
   "source": [
    "K = [[7.070912e+02, 0.000000e+00, 6.018873e+02],\n",
    "     [0.000000e+00, 7.070912e+02, 1.831104e+02],\n",
    "     [0.000000e+00, 0.000000e+00, 1.000000e+00]]\n",
    "baseline = 0.53790448812"
   ]
  },
  {
   "cell_type": "code",
   "execution_count": 4,
   "metadata": {},
   "outputs": [],
   "source": [
    "def writePointCloud(vertices, colors, filename):\n",
    "    colors = colors.reshape(-1,3)\n",
    "    vertices = np.hstack([vertices.reshape(-1,3), colors])\n",
    "\n",
    "    ply_header = '''ply\n",
    "        format ascii 1.0\n",
    "        element vertex %(vert_num)d\n",
    "        property float x\n",
    "        property float y\n",
    "        property float z\n",
    "        property uchar red\n",
    "        property uchar green\n",
    "        property uchar blue\n",
    "        end_header\n",
    "        '''\n",
    "    with open(filename, 'w') as f:\n",
    "        f.write(ply_header %dict(vert_num=len(vertices)))\n",
    "        np.savetxt(f,vertices,'%f %f %f %d %d %d')"
   ]
  },
  {
   "cell_type": "code",
   "execution_count": 5,
   "metadata": {},
   "outputs": [],
   "source": [
    "def disparityMap(L, R):\n",
    "    left_image = cv2.imread(L)\n",
    "    right_image = cv2.imread(R)\n",
    "    left_image = cv2.cvtColor(left_image, cv2.COLOR_BGR2GRAY)\n",
    "    right_image = cv2.cvtColor(right_image, cv2.COLOR_BGR2GRAY)\n",
    "        \n",
    "    stereo = cv2.StereoSGBM_create(minDisparity = 16,\n",
    "       numDisparities = 128,\n",
    "       blockSize = 7,\n",
    "       disp12MaxDiff = 1,\n",
    "       speckleWindowSize = 100,\n",
    "       speckleRange = 2,\n",
    "       uniquenessRatio = 12,\n",
    "       P1 = 8*3*7*7,\n",
    "       P2 = 32*3*7*7,\n",
    "    )\n",
    "    \n",
    "    disparity = stereo.compute(left_image, right_image).astype(np.float32) / 16.0\n",
    "    return disparity"
   ]
  },
  {
   "cell_type": "code",
   "execution_count": 6,
   "metadata": {},
   "outputs": [],
   "source": [
    "def read_transformations(filename='../data/poses.txt'):\n",
    "    f = open(filename, 'r')\n",
    "    lines = f.readlines()\n",
    "    transformation_list = []\n",
    "    for i in range(len(lines)):\n",
    "        transformation_list_temp = lines[i].split()\n",
    "        temp_rot = [] \n",
    "        temp_rot.append( (transformation_list_temp[0:4] ) ) \n",
    "        temp_rot.append( (transformation_list_temp[4:8]  ) ) \n",
    "        temp_rot.append( (transformation_list_temp[8:12]  ) ) \n",
    "        transformation_list.append(np.array(temp_rot,dtype = np.float32))\n",
    "    return transformation_list"
   ]
  },
  {
   "cell_type": "code",
   "execution_count": 7,
   "metadata": {},
   "outputs": [],
   "source": [
    "poses = read_transformations()\n",
    "left_images = '../data/img2'\n",
    "right_images = '../data/img3'"
   ]
  },
  {
   "cell_type": "code",
   "execution_count": 51,
   "metadata": {},
   "outputs": [],
   "source": [
    "for image in sorted(os.listdir(left_images)):\n",
    "    left_image = os.path.join(left_images, image)\n",
    "    right_image = os.path.join(right_images, image)\n",
    "    disparity = disparityMap(left_image, right_image)\n",
    "    img = cv2.imread(left_image)\n",
    "    \n",
    "    cx = K[0][2]\n",
    "    cy = K[1][2]\n",
    "    f = 7.070912e+02\n",
    "    Q = np.float32([[1, 0, 0, -cx],\n",
    "                        [0, 1, 0, -cy], \n",
    "                        [0, 0, 0, f], \n",
    "                        [0, 0, -1/baseline,  0]])\n",
    "    \n",
    "    # 3D points\n",
    "    points = cv2.reprojectImageTo3D(disparity, Q)\n",
    "    colors = cv2.cvtColor(img, cv2.COLOR_BGR2RGB)  \n",
    "    \n",
    "    #filtered = disparity > disparity.min()\n",
    "    #points = points[filtered]\n",
    "    #colors = colors[filtered]\n",
    "    \n",
    "    writePointCloud(points, colors,  os.path.join('../pointclouds', image[: -4] + \".ply\"))"
   ]
  },
  {
   "cell_type": "code",
   "execution_count": 6,
   "metadata": {},
   "outputs": [],
   "source": [
    "finalpcd = o3d.geometry.PointCloud()\n",
    "cnt = 0\n",
    "for T, filename in zip(poses,sorted(os.listdir('../pointclouds'))):\n",
    "    #cnt += 1\n",
    "    pcd = o3d.io.read_point_cloud(os.path.join('../pointclouds', filename))\n",
    "    #if cnt < 3:\n",
    "    #    o3d.visualization.draw_geometries([pcd])\n",
    "    T = T.reshape(3, 4)\n",
    "    T = np.vstack((T, [0,0,0,1]))\n",
    "    pcd = pcd.transform(T)\n",
    "    finalpcd += pcd\n",
    "    #print(cnt)"
   ]
  },
  {
   "cell_type": "code",
   "execution_count": 7,
   "metadata": {},
   "outputs": [],
   "source": [
    "o3d.visualization.draw_geometries([finalpcd])"
   ]
  },
  {
   "cell_type": "markdown",
   "metadata": {},
   "source": [
    "## PART 2: Motion estimation using iterative PnP\n",
    "\n",
    "Using the generated reconstruction from the previous part, synthesize a new image taken by a virtualmonocular camera fixed at any arbitrary position and orientation.  Your task in this part is to recoverthis pose using an iterative Perspective-from-n-Points (PnP) algorithm. \n",
    "\n",
    "#### Procedure: \n",
    "\n",
    "<ol>\n",
    "    <li> Obtain a set of 2D-3D correspondences between the the image and the point cloud.  Since hereyou’re generating the image, this should be easy to obtain. </li>\n",
    "    <li> For this set of correspondences compute the total reprojection error c= $\\sum_{i} ‖x_i−P_{k}X_i‖^2 $    where $P_{k}= K[R_{k}|t_{k}]$, $X_{i}$ is the 3D point in the world frame, $x_{i}$ is its corresponding projection. </li>\n",
    "    <li> Solve for the pose $T_{k}$ that minimizes this non-linear reprojection error using a Gauss-Newton (GN)scheme.  Recall that in GN we start with some initial estimated value $x_{o}$ and iteratively refine the estimate using $x_{1}$= $∆x+x_0$, where $∆x$ is obtained by solving the normal equations $J^{T}J∆x$= -$J^{T}e$, until convergence.The main steps in this scheme are computing the corresponding Jacobians and updating the estimates correctly.  For our problem,  use a 12×1 vector parameterization for $T_{k}$(the top 3×4submatrix).  Run the optimization for different choices of initialization and report your observations. </li>\n",
    "</ol>\n",
    "\n",
    "Make sure that you write about how you calculate the residual and jacobians. Do not just include the code. The pose that you have been given is the ground truth, so using that will obviously give good results for optimization, so try out something else as well."
   ]
  },
  {
   "cell_type": "code",
   "execution_count": 9,
   "metadata": {},
   "outputs": [
    {
     "name": "stdout",
     "output_type": "stream",
     "text": [
      "[[ 1.29181075e+02  5.77910125e+02  7.15247021e+02  7.07091200e+02]\n",
      " [ 8.05504972e+01  6.26540703e+02 -3.66695639e+02  7.07091200e+02]\n",
      " [-6.33581000e-01  6.33581000e-01  4.44015800e-01  0.00000000e+00]]\n"
     ]
    }
   ],
   "source": [
    "R = np.array([[0.7220079,  0.2779921,  0.6335810],\n",
    "     [0.2779921,  0.7220079, -0.6335810],\n",
    "     [-0.6335810,  0.6335810, 0.4440158]])\n",
    "t = np.array([[1], [1], [0]])\n",
    "Rt = np.hstack((R,t))\n",
    "P = K@(Rt)\n",
    "print(P)"
   ]
  },
  {
   "cell_type": "code",
   "execution_count": 10,
   "metadata": {},
   "outputs": [
    {
     "name": "stdout",
     "output_type": "stream",
     "text": [
      "(1365, 3)\n"
     ]
    }
   ],
   "source": [
    "finalpcd_down = finalpcd.voxel_down_sample(voxel_size = 1)\n",
    "points = np.array(finalpcd_down.points)\n",
    "print(points.shape)\n",
    "ones = np.ones((points.shape[0], 1))\n",
    "world_points = np.hstack((points, ones))\n",
    "image_points = P@world_points.T\n",
    "image_points = image_points.T"
   ]
  },
  {
   "cell_type": "code",
   "execution_count": 11,
   "metadata": {},
   "outputs": [],
   "source": [
    "def getResidual(image_points, world_points, p):\n",
    "    P = p.reshape((3,4))\n",
    "    residual = []\n",
    "    n = image_points.shape[0]\n",
    "    for i in range(n):\n",
    "        X = world_points[i]\n",
    "        x = P@X\n",
    "        e = (image_points[i] - x)**2\n",
    "        residual.append(np.sum(e))\n",
    "    return np.array(residual)"
   ]
  },
  {
   "cell_type": "code",
   "execution_count": 8,
   "metadata": {},
   "outputs": [],
   "source": [
    "def getJacobian(image_points, world_points, P):\n",
    "    J = np.zeros((world_points.shape[0], 12))\n",
    "    for i in range(image_points.shape[0]):\n",
    "        x1, x2, x3 = image_points[i]\n",
    "        X1, X2, X3, X4 = world_points[i]\n",
    "\n",
    "        J[i][0]  = 2*(x1 - P[0]*X1 - P[1]*X2 - P[2]*X3  - P[3]*X4)* (-X1)\n",
    "        J[i][1]  = 2*(x1 - P[0]*X1 - P[1]*X2 - P[2]*X3  - P[3]*X4)* (-X2)\n",
    "        J[i][2]  = 2*(x1 - P[0]*X1 - P[1]*X2 - P[2]*X3  - P[3]*X4)* (-X3)\n",
    "        J[i][3]  = 2*(x1 - P[0]*X1 - P[1]*X2 - P[2]*X3  - P[3]*X4)* (-X4)\n",
    "        J[i][4]  = 2*(x2 - P[4]*X1 - P[5]*X2 - P[6]*X3  - P[7]*X4)* (-X1)\n",
    "        J[i][5]  = 2*(x2 - P[4]*X1 - P[5]*X2 - P[6]*X3  - P[7]*X4)* (-X2)\n",
    "        J[i][6]  = 2*(x2 - P[4]*X1 - P[5]*X2 - P[6]*X3  - P[7]*X4)* (-X3)\n",
    "        J[i][7]  = 2*(x2 - P[4]*X1 - P[5]*X2 - P[6]*X3  - P[7]*X4)* (-X4)\n",
    "        J[i][8]  = 2*(x3 - P[8]*X1 - P[9]*X2 - P[10]*X3 - P[11]*X4)* (-X1)\n",
    "        J[i][9]  = 2*(x3 - P[8]*X1 - P[9]*X2 - P[10]*X3 - P[11]*X4)* (-X2)\n",
    "        J[i][10] = 2*(x3 - P[8]*X1 - P[9]*X2 - P[10]*X3 - P[11]*X4)* (-X3)\n",
    "        J[i][11] = 2*(x3 - P[8]*X1 - P[9]*X2 - P[10]*X3 - P[11]*X4)* (-X4)\n",
    "        \n",
    "    return J"
   ]
  },
  {
   "cell_type": "code",
   "execution_count": 13,
   "metadata": {},
   "outputs": [],
   "source": [
    "def getError(image_points, world_points, p):\n",
    "    residual = getResidual(image_points, world_points, p)\n",
    "    return np.sum(residual)"
   ]
  },
  {
   "cell_type": "code",
   "execution_count": 14,
   "metadata": {},
   "outputs": [],
   "source": [
    "def GaussNewton(image_points, world_points, p):\n",
    "    num_of_iters = 100\n",
    "    tol = 1e-3\n",
    "    initialerror = getError(image_points, world_points, p)\n",
    "    errors = []\n",
    "    errors.append(initialerror)\n",
    "    converged = False\n",
    "\n",
    "    for i in range(num_of_iters):\n",
    "        residual = getResidual(image_points, world_points, p)\n",
    "        J = getJacobian(image_points, world_points, p)\n",
    "        delta = np.linalg.pinv(J.T @ J)@J.T@residual   \n",
    "        delta = delta.reshape((12,1))\n",
    "        p = p - delta\n",
    "        error = getError(image_points, world_points, p)\n",
    "        errors.append(error)\n",
    "        \n",
    "        if error < tol:\n",
    "            print(\"Gauss Newton converged in \", str(i+1), \" iterations\")\n",
    "            print(\"Error: \", error)\n",
    "            converged = True\n",
    "            break\n",
    "    if not converged:\n",
    "        print(\"Gauss Newton faied to converge in \", str(num_of_iters), \" iterations\")\n",
    "        print(\"Error: \", error)\n",
    "    return errors, p"
   ]
  },
  {
   "cell_type": "markdown",
   "metadata": {},
   "source": [
    "#### Initializing p with random values"
   ]
  },
  {
   "cell_type": "code",
   "execution_count": 20,
   "metadata": {},
   "outputs": [
    {
     "name": "stdout",
     "output_type": "stream",
     "text": [
      "Gauss Newton converged in  26  iterations\n",
      "Error:  0.00048372468405103895\n"
     ]
    }
   ],
   "source": [
    "p = np.random.rand(12,1)*10\n",
    "errors, est_p = GaussNewton(image_points, world_points, p)"
   ]
  },
  {
   "cell_type": "code",
   "execution_count": 21,
   "metadata": {},
   "outputs": [
    {
     "data": {
      "text/plain": [
       "[<matplotlib.lines.Line2D at 0x7f364402ccf8>]"
      ]
     },
     "execution_count": 21,
     "metadata": {},
     "output_type": "execute_result"
    },
    {
     "data": {
      "image/png": "[encoded data removed]",
      "text/plain": [
       "<Figure size 432x288 with 1 Axes>"
      ]
     },
     "metadata": {
      "needs_background": "light"
     },
     "output_type": "display_data"
    }
   ],
   "source": [
    "plt.plot(errors)"
   ]
  },
  {
   "cell_type": "markdown",
   "metadata": {},
   "source": [
    "#### Initializing p with close to initial values"
   ]
  },
  {
   "cell_type": "code",
   "execution_count": 22,
   "metadata": {},
   "outputs": [
    {
     "name": "stdout",
     "output_type": "stream",
     "text": [
      "Gauss Newton converged in  18  iterations\n",
      "Error:  0.00030531580608638787\n"
     ]
    }
   ],
   "source": [
    "k = 0\n",
    "for i in range(P.shape[0]):\n",
    "    for j in range(P.shape[1]):\n",
    "        p[k] = P[i][j] + np.random.rand()\n",
    "        k += 1\n",
    "errors, est_p = GaussNewton(image_points, world_points, p)"
   ]
  },
  {
   "cell_type": "code",
   "execution_count": 23,
   "metadata": {},
   "outputs": [
    {
     "data": {
      "text/plain": [
       "[<matplotlib.lines.Line2D at 0x7f363e7f42b0>]"
      ]
     },
     "execution_count": 23,
     "metadata": {},
     "output_type": "execute_result"
    },
    {
     "data": {
      "image/png": "[encoded data removed]",
      "text/plain": [
       "<Figure size 432x288 with 1 Axes>"
      ]
     },
     "metadata": {
      "needs_background": "light"
     },
     "output_type": "display_data"
    }
   ],
   "source": [
    "plt.plot(errors)"
   ]
  },
  {
   "cell_type": "markdown",
   "metadata": {},
   "source": [
    "## PART 3: Odometry Calculation\n",
    "\n",
    "In part 1, you used the ground truth pose for registration. Here, try to estimate the pose using the RGB image data alone. \n",
    "\n",
    "#### Procedure:\n",
    "\n",
    "1. This can be done by computing features across the two images and matching them. Since you already have the depth map, you now have correspondences between the depth maps of two images as well from the RGB feature matches. \n",
    "2. You can now convert this depth map to a point cloud.\n",
    "3. Since you have correspondences between image points in the depth map, you have 3D correspondences here as well. Perform ICP here to get a good pose estimate.\n",
    "4. Feed these initial pose estimates into the PnP pipeline and optimise further."
   ]
  }
 ],
 "metadata": {
  "kernelspec": {
   "display_name": "Python 3",
   "language": "python",
   "name": "python3"
  },
  "language_info": {
   "codemirror_mode": {
    "name": "ipython",
    "version": 3
   },
   "file_extension": ".py",
   "mimetype": "text/x-python",
   "name": "python",
   "nbconvert_exporter": "python",
   "pygments_lexer": "ipython3",
   "version": "3.6.9"
  }
 },
 "nbformat": 4,
 "nbformat_minor": 4
}
