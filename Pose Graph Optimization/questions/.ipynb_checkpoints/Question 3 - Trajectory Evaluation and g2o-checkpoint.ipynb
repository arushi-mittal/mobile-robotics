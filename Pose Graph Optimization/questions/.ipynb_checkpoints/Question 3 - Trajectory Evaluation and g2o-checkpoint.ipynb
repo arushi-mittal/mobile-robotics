{
 "cells": [
  {
   "cell_type": "markdown",
   "id": "exposed-little",
   "metadata": {},
   "source": [
    "# Question 3: Trajectory Evaluation and g2o"
   ]
  },
  {
   "cell_type": "markdown",
   "id": "hearing-bachelor",
   "metadata": {},
   "source": [
    "_Refer to the example notebooks for installation instructions_"
   ]
  },
  {
   "cell_type": "markdown",
   "id": "radio-atlantic",
   "metadata": {},
   "source": [
    "# Evo"
   ]
  },
  {
   "cell_type": "markdown",
   "id": "recognized-booking",
   "metadata": {},
   "source": [
    "So you've implemented 2D SLAM, great! Now, what? We need a measure of how good the trajectory is. The error/loss used earlier doesn't tell us much about how the trajectory differs from the ground truth. Here, we try to do just this - compute error metrics. Rather than computing these from scratch, we will just Evo - https://github.com/MichaelGrupp/evo/."
   ]
  },
  {
   "cell_type": "markdown",
   "id": "amino-command",
   "metadata": {},
   "source": [
    "Look at the absolute pose error (APE) and relative pose error (RPE). What do they capture and how are they calculated (descriptive answer)? How do these metrics differ in methodology? Can we determine if the error is more along the x/y axis?\n",
    "\n",
    "Answer the above questions and report errors for the obtained trajectory."
   ]
  },
  {
   "cell_type": "markdown",
   "id": "1ebe096e",
   "metadata": {},
   "source": [
    "`APE`:\n",
    "\n",
    "The absolute pose error is computed using the absolute trajectory error. It compares the robot's trajectory with the actual ground truth trajectory. The poses are directly compared between estimate and reference given a pose relation. Then, statistics for the whole trajectory are calculated. This is useful to test the global consistency of a trajectory, which is done by comparing the absolute distances between estimated and ground truth trajectory. As both trajectories can be specified in arbitrary coordinate frames, they first need to be aligned. This can be achieved by using the Horn method, which finds the rigid-body transformation S.\n",
    "\n",
    "\n",
    "The error matrix at time `i` is defined as:\n",
    "$$E_{i} := Q_{i}^{-1} S P_{i}$$\n",
    "and the APE is defined as RMSE from the error matrices over all the time indices:\n",
    "\n",
    "$$APE_{rmse} = (\\frac{1}{n} \\sum_{i = 1}^{n} ||trans(E_{i})||^{2})$$\n",
    "\n",
    "The mean and median values are computed. Actually, APE is the average deviation from the ground trajectory per frame.\n",
    "\n",
    "`RPE`:\n",
    "\n",
    "The relative pose error compares motions or pose deltas instead of comparing the absolute poses. It provides information about the local accuracy or the drift of the trajectory over a fixed time interval. This can be used to evaluate visual odometry systems. It measures the accuracy of the SLAM result by comparing relative transformations between nearby poses to the actual ground truth transformations. \n",
    "\n",
    "The relative pose error matrix at time `i` is defined as:\n",
    "$$F_{i}^{\\Delta} := (Q_{i}^{-1}Q_{i + \\Delta})^{-1}(P_{i}^{-1}P_{i + \\Delta})$$\n",
    "We get $m = n - \\Delta$ matrices from $n$ camera poses.\n",
    "\n",
    "The RPE is divided into rotational and translational components. We average over all possible pairs for both components. The mean error for rotational component is obtained in the following manner:\n",
    "\n",
    "$$RPE_{rot}^{i, \\Delta} = \\frac{1}{m}\\sum_{i = 1}^{m}\\angle(rot(F_{i}^{\\Delta}))$$\n",
    "\n",
    "The RMSE for translational component is obtained in the following manner:\n",
    "\n",
    "$$RPE_{trans}^{i, \\Delta} = (\\frac{1}{m}\\sum_{i = 1}^{m} ||trans(F_{i})||^{2})^{\\frac{1}{2}}$$\n",
    "\n",
    "`Difference`:\n",
    "\n",
    "While `APE` measures the absolute distances to obtain the `global consistency`, `RPE` measures the relative distances to obtain the `local accuracy` or `drift`."
   ]
  },
  {
   "cell_type": "markdown",
   "id": "3a735869",
   "metadata": {},
   "source": [
    "In order to use `evo`, we need to convert the `g2o` files to `kitti` using the `g2o_to_kitti.py` file given in /misc, by running the following commands:\n",
    "\n",
    "We get the initial `kitti` file after conversion of `estimate.g2o` to `estimate.kitti`:\n",
    "\n",
    "![estimate.kitti](../images/estimate.png)\n",
    "\n",
    "The ground truth `kitti` file is `gt.kitti`:\n",
    "![estimate.kitti](../images/GT.png)\n",
    "\n",
    "Next, we use Evo to generate the `APE` and `RPE` using the command line interface. In order to check if the error is more along the x/y axis, we provide additional parameters to our commands before running them to evaluate along the x/y axes in the following manner:\n",
    "\n",
    "```bash\n",
    "evo_ape kitti gt.kitti estimate.kitti -v --plot --plot_mode xy\n",
    "evo_rpe kitti gt.kitti estimate.kitti -v --plot --plot_mode xy\n",
    "```\n",
    "\n",
    "We get the absolute pose error:\n",
    "\n",
    "![APE](../images/APE_data.png)\n",
    "\n",
    "APE Graph:\n",
    "\n",
    "![APE](../images/APE.png)\n",
    "\n",
    "We get the relative pose error:\n",
    "\n",
    "![RPE](../images/RPE_data.png)\n",
    "\n",
    "RPE Graph:\n",
    "\n",
    "![RPE](../images/RPE.png)\n",
    "\n",
    "\n"
   ]
  },
  {
   "cell_type": "markdown",
   "id": "surrounded-anderson",
   "metadata": {},
   "source": [
    "If you're interested, play around with this tool and add any other plots that you think might be relevant/interesting."
   ]
  },
  {
   "cell_type": "markdown",
   "id": "f682afd7",
   "metadata": {},
   "source": [
    "We also used the `evo_traj` command to compare the trajectories in the following way:\n",
    "\n",
    "```bash\n",
    "\n",
    "```\n",
    "\n",
    "We get both the trajectories:\n",
    "\n",
    "![Trajectory](../images/TRAJ.png)\n",
    "\n",
    "Trajectory Graph:\n",
    "\n",
    "![Trajectory](../images/TRAJ_data.png)"
   ]
  },
  {
   "cell_type": "markdown",
   "id": "exceptional-charity",
   "metadata": {},
   "source": [
    "# g2o"
   ]
  },
  {
   "cell_type": "markdown",
   "id": "presidential-hayes",
   "metadata": {},
   "source": [
    "Install g2o as mentioned in `examples/g2o.ipynb` and optimise `edges.txt`, the file you used earlier. Also use `g2o_viewer` and optimize `intel` (a trajectory in the Intel research lab) and `sphere`. They should look something like:\n",
    "\n",
    "\n",
    "<table><tr>\n",
    "<td> <img src=\"../misc/intel.jpg\" alt=\"Drawing\" style=\"width: 250px;\"/> </td>\n",
    "<td> <img src=\"../misc/sphere.jpg\" alt=\"Drawing\" style=\"width: 250px;\"/> </td>\n",
    "</tr></table>"
   ]
  },
  {
   "cell_type": "markdown",
   "id": "amino-football",
   "metadata": {},
   "source": [
    "Write briefly about your observations and try out few options in the GUI. What do they do, how do they perform?"
   ]
  },
  {
   "cell_type": "markdown",
   "id": "0a4578e5",
   "metadata": {},
   "source": [
    "## Trajectory"
   ]
  },
  {
   "cell_type": "markdown",
   "id": "9c40cfe5",
   "metadata": {},
   "source": [
    "![title](opt.png)"
   ]
  },
  {
   "cell_type": "markdown",
   "id": "508829f5",
   "metadata": {},
   "source": [
    "## Intel"
   ]
  },
  {
   "cell_type": "markdown",
   "id": "f5f82fdd",
   "metadata": {},
   "source": [
    "![title](../data/opt-intel.png)"
   ]
  },
  {
   "cell_type": "markdown",
   "id": "f75545c1",
   "metadata": {},
   "source": [
    "## Sphere"
   ]
  },
  {
   "cell_type": "markdown",
   "id": "49cc37b3",
   "metadata": {},
   "source": [
    "![title](../data/opt-sphere.png)"
   ]
  },
  {
   "cell_type": "markdown",
   "id": "5af1cf51",
   "metadata": {},
   "source": [
    "## Observations"
   ]
  },
  {
   "cell_type": "markdown",
   "id": "d3af5e54",
   "metadata": {},
   "source": [
    "1. Using a Robust Kernel gave better results.\n",
    "2. The above were achieved using Huber, which gave results which closely resembled the ground truth. In some cases, though error values were very low, the output was not as close to ground truth as desired.\n",
    "3. Both Levenberg-Marquardt and Gauss-Newton were used, and similar results were obtained in both cases.\n",
    "4. In the case of the sphere, the number of iterations taken to converge was more than the intel and trajectory, which converged very quickly. "
   ]
  }
 ],
 "metadata": {
  "kernelspec": {
   "display_name": "Python 3",
   "language": "python",
   "name": "python3"
  },
  "language_info": {
   "codemirror_mode": {
    "name": "ipython",
    "version": 3
   },
   "file_extension": ".py",
   "mimetype": "text/x-python",
   "name": "python",
   "nbconvert_exporter": "python",
   "pygments_lexer": "ipython3",
   "version": "3.6.9"
  }
 },
 "nbformat": 4,
 "nbformat_minor": 5
}
