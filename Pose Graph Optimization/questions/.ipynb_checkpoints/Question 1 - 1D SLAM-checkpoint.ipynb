{
 "cells": [
  {
   "cell_type": "markdown",
   "id": "posted-twist",
   "metadata": {},
   "source": [
    "# Question 1:  Pose Graph Optimization for 1D SLAM"
   ]
  },
  {
   "cell_type": "markdown",
   "id": "chemical-andorra",
   "metadata": {},
   "source": [
    "A solved example for 1D SLAM which optimizes for pose variables using weighted least squares method (Gauss Newton) has been explained in the class. You can view it at `examples/1D-SLAM.ipynb`. Your first task is to code this from scratch.\n",
    "\n",
    "For this section, you have to calculate Jacobian analytically yourself and use it. However, you can check how correct it is using `jax`'s `jacobian`. Its usage is explained in the supplementary notebook (`examples/`)."
   ]
  },
  {
   "cell_type": "markdown",
   "id": "fleet-digest",
   "metadata": {},
   "source": [
    "## How to get started?\n",
    "\n",
    "1. Go through the example and understand the optimization procedure.\n",
    "2. Generate the data as in the example.\n",
    "3. Write the derivatives of the function with respect to the constraints\n",
    "4. Create the final jacobian and write the update steps using Gauss Newton\n",
    "\n",
    "This tiny example will help make sense of the next question, as it's largely just an extension of this."
   ]
  },
  {
   "cell_type": "markdown",
   "id": "tough-brighton",
   "metadata": {},
   "source": [
    "Finally, plot the loop closure constraint, poses, and error at every iteration as well. Since this is a one dimensional example, you can just assume x = y."
   ]
  },
  {
   "cell_type": "code",
   "execution_count": 86,
   "id": "multiple-stomach",
   "metadata": {},
   "outputs": [],
   "source": [
    "import os\n",
    "import math\n",
    "import numpy as np\n",
    "import matplotlib.pyplot as plt\n",
    "import jax.numpy as jnp\n",
    "import jax"
   ]
  },
  {
   "cell_type": "code",
   "execution_count": 87,
   "id": "7d644e95",
   "metadata": {},
   "outputs": [],
   "source": [
    "def frobNorm(P1, P2, str1=\"mat1\", str2=\"mat2\"):\n",
    "    jnp.set_printoptions(suppress=True)\n",
    "    val = jnp.linalg.norm(P1 - P2, 'fro')\n",
    "    print(f\"Frobenius norm between {str1} and {str2} is: {val}\")"
   ]
  },
  {
   "cell_type": "code",
   "execution_count": 88,
   "id": "b5c3a272",
   "metadata": {},
   "outputs": [],
   "source": [
    "def draw(X, Y, Xgt, Ygt):\n",
    "    \n",
    "    ax = plt.subplot(111)\n",
    "    ax.plot(Xgt, Ygt, 'go', label = \"Ground Truth\")\n",
    "\n",
    "    plt.plot(X, Y, 'ro', label = \"Estimate\")\n",
    "    \n",
    "    plt.legend()\n",
    "        \n",
    "    plt.show()"
   ]
  },
  {
   "cell_type": "code",
   "execution_count": 89,
   "id": "dc5c471a",
   "metadata": {},
   "outputs": [],
   "source": [
    "x_gt = jnp.array([0.0, 1.0, 2.0, 3.0, 0.0])\n",
    "x_odo = jnp.array([0.0, 1.1, 2.1, 3.2, 0.5])\n",
    "u_gt = jnp.array([1.0, 1.0, 1.0, -3.0, 0.0])\n",
    "u_obs = jnp.array([1.1, 1.0, 1.1, -2.7, 0.0])"
   ]
  },
  {
   "cell_type": "code",
   "execution_count": 90,
   "id": "focal-identification",
   "metadata": {},
   "outputs": [],
   "source": [
    "def f(x, u):\n",
    "    ret = jnp.zeros(6)\n",
    "    for i in range(4):\n",
    "        ret = ret.at[i].set(x.at[i].get() + u.at[i].get() - x.at[i+1].get())\n",
    "    ret = ret.at[4].set(x.at[0].get() + u.at[4].get() - x.at[4].get())\n",
    "    ret = ret.at[5].set(x.at[0].get() - 0.0)\n",
    "    return ret"
   ]
  },
  {
   "cell_type": "code",
   "execution_count": 91,
   "id": "4d508c44",
   "metadata": {},
   "outputs": [
    {
     "name": "stdout",
     "output_type": "stream",
     "text": [
      "Frobenius norm between mat1 and mat2 is: 0.0\n"
     ]
    }
   ],
   "source": [
    "info = jnp.diag(jnp.array([100, 100, 100, 100, 100, 1000]))\n",
    "jax_jacobian = jax.jacfwd(f)(x_odo, u_obs)\n",
    "analytical_jacobian = jnp.array([[1, -1, 0, 0, 0],\n",
    "                   [0, 1, -1, 0, 0],\n",
    "                   [0, 0, 1, -1, 0],\n",
    "                   [0, 0, 0, 1, -1],\n",
    "                   [1, 0, 0, 0, -1],\n",
    "                   [1, 0, 0, 0, 0],\n",
    "                  ])\n",
    "frobNorm(jax_jacobian, analytical_jacobian)"
   ]
  },
  {
   "cell_type": "markdown",
   "id": "0e7cc774",
   "metadata": {},
   "source": [
    "#### Comparison between analytical jacobian and jax's jacobian reveals both to be the same for given function."
   ]
  },
  {
   "cell_type": "code",
   "execution_count": 92,
   "id": "82f44c09",
   "metadata": {},
   "outputs": [
    {
     "name": "stdout",
     "output_type": "stream",
     "text": [
      "Iteration: 1\n",
      "x:\n",
      "[-0.00000001  1.          1.9999999   3.         -0.00000006]\n",
      "Error: 18.0\n"
     ]
    },
    {
     "data": {
      "image/png": "[encoded data removed]",
      "text/plain": [
       "<Figure size 432x288 with 1 Axes>"
      ]
     },
     "metadata": {
      "needs_background": "light"
     },
     "output_type": "display_data"
    },
    {
     "name": "stdout",
     "output_type": "stream",
     "text": [
      "Iteration: 2\n",
      "x:\n",
      "[0.         1.         2.         3.         0.00000002]\n",
      "Error: 1.0496812e-12\n"
     ]
    },
    {
     "data": {
      "image/png": "[encoded data removed]",
      "text/plain": [
       "<Figure size 432x288 with 1 Axes>"
      ]
     },
     "metadata": {
      "needs_background": "light"
     },
     "output_type": "display_data"
    },
    {
     "name": "stdout",
     "output_type": "stream",
     "text": [
      "Iteration: 3\n",
      "x:\n",
      "[0. 1. 2. 3. 0.]\n",
      "Error: 6.229744e-14\n"
     ]
    },
    {
     "data": {
      "image/png": "[encoded data removed]",
      "text/plain": [
       "<Figure size 432x288 with 1 Axes>"
      ]
     },
     "metadata": {
      "needs_background": "light"
     },
     "output_type": "display_data"
    }
   ],
   "source": [
    "x = jnp.array(x_odo)\n",
    "for i in range(5):\n",
    "    J = jax.jacfwd(f)(x, u_gt)\n",
    "    H = J.T@info@J\n",
    "    fx = f(x, u_gt)\n",
    "    b = J.T@info.T@fx\n",
    "    deltax = jnp.linalg.inv(H)@(-b)\n",
    "    x = x + deltax\n",
    "    error = 0.5 * (fx.T@sigma@fx)\n",
    "    print(\"Iteration: \" + str(i+1))\n",
    "    print(\"x:\")\n",
    "    print(x)\n",
    "    print(\"Error: \" + str(error))\n",
    "    draw(x, x, x_gt, x_gt)\n",
    "    if error < 1e-13:\n",
    "        break"
   ]
  },
  {
   "cell_type": "code",
   "execution_count": null,
   "id": "551a0fee",
   "metadata": {},
   "outputs": [],
   "source": []
  }
 ],
 "metadata": {
  "kernelspec": {
   "display_name": "Python 3",
   "language": "python",
   "name": "python3"
  },
  "language_info": {
   "codemirror_mode": {
    "name": "ipython",
    "version": 3
   },
   "file_extension": ".py",
   "mimetype": "text/x-python",
   "name": "python",
   "nbconvert_exporter": "python",
   "pygments_lexer": "ipython3",
   "version": "3.6.9"
  }
 },
 "nbformat": 4,
 "nbformat_minor": 5
}
