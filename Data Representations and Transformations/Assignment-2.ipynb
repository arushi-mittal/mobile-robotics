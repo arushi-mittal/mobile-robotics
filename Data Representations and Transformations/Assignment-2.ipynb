{
 "cells": [
  {
   "cell_type": "markdown",
   "id": "e2e806d4",
   "metadata": {},
   "source": [
    "# Assignment - 2: Data Representation and Point Cloud Operations\n",
    "\n",
    "Team Name: R2D2 \n",
    "\n",
    "Roll number: 2019101120, 2019111030"
   ]
  },
  {
   "cell_type": "markdown",
   "id": "1e42e4d4",
   "metadata": {},
   "source": [
    "# Instructions\n",
    "\n",
    "- Code must be written in Python in Jupyter Notebooks. We highly recommend using anaconda distribution or at the minimum, virtual environments for this assignment.\n",
    "- Save all your results in ```results/<question_number>/<sub_topic_number>/```\n",
    "- The **References** section provides you with important resources to solve the assignment.\n",
    "- Make sure your code is modular since you may need to reuse parts for future assignments.\n",
    "- Answer the descriptive questions in your own words with context & clarity. Do not copy answers from online resources or lecture notes.\n",
    "- The **deadline** for this assignment is on 26/09/2021 at 11:55pm. Please note that there will be no extensions.\n",
    "- Plagiarism is **strictly prohibited**."
   ]
  },
  {
   "cell_type": "markdown",
   "id": "bb6ccd58",
   "metadata": {},
   "source": [
    "# Submission Instructions\n",
    "\n",
    "1. Make sure your code runs without any errors after reinitializing the kernel and removing all saved variables.\n",
    "2. After completing your code and saving your results, zip the folder with name as ``Team_<team_name>_MR2021_Assignment_<assignment_number>.zip``"
   ]
  },
  {
   "cell_type": "code",
   "execution_count": 2,
   "id": "b40d245c",
   "metadata": {},
   "outputs": [
    {
     "name": "stdout",
     "output_type": "stream",
     "text": [
      "Jupyter environment detected. Enabling Open3D WebVisualizer.\n",
      "[Open3D INFO] WebRTC GUI backend enabled.\n",
      "[Open3D INFO] WebRTCWindowSystem: HTTP handshake server disabled.\n"
     ]
    }
   ],
   "source": [
    "import numpy as np\n",
    "import matplotlib.pyplot as plt\n",
    "import cv2 as cv\n",
    "import open3d as o3d\n",
    "import matplotlib as mpl\n",
    "import matplotlib.pyplot as plt\n",
    "import pandas as pd"
   ]
  },
  {
   "cell_type": "markdown",
   "id": "1f85262a",
   "metadata": {},
   "source": [
    "# Introduction to types of Transformations and Homogeneous coordinates\n",
    "\n",
    "In robotics applications, it is inevitable to keep track of the frames of multiple objects/worlds. These frames can be transformations from one coordinate frame to the other. **Homogeneous coordinates** help in keeping track of various coordinate frames and allow performing composition of various transforms. We will first try to understand between types of transformations and their invariant properties.\n",
    "1. What is the difference between Affine, Similarity, and Euclidean transform? What are the invariant properities of each type of transform?\n",
    "2. Watch this [video](https://www.youtube.com/watch?v=PvEl63t-opM) to briefly understand homogeneous coordinates. What are points at infinity? What type of transformation can you apply to transform a point from infinity to a point that is not at infinity? \n",
    "3. Using homogeneous coordinates we can represent different types of transformation as point transforms vs. frame transforms. Concatenation of transforms (whether you post multiply transformation matrices or pre-multiply transformation matrices) depends on the problem and how you are viewing it. Try to understand the difference between frame vs. point transformations from this [video](https://youtu.be/Za7Sdegf8m8?t=1834). Let's assume that our camera and world frames are coinciding with each other. We need to estimate the camera to world **frame** transformation matrix after applying the transformations defined below in terms of $T_i$.We apply **frame** transform to move the camera in the world in the following order:\n",
    "    1. $T_1$ from the camera coordinate frame.\n",
    "    2. $T_2$ from the world coordinate frame.\n",
    "    3. $T_3$ from the world coordinate frame.\n",
    "    4. $T_4$ from the camera coordinate frame.\n",
    "    5. $T_5$ from the camera coordinate frame.\n"
   ]
  },
  {
   "cell_type": "markdown",
   "id": "a444f5d6",
   "metadata": {},
   "source": [
    "1. Similarity and Euclidean transformations are special cases of affine transformations. An affine transformation is a combination of a non-singular linear transformation and translation, whereas similarity transformation is a combination of translation, rotation, uniform scaling , and reflection. A Euclidean transformation is a case of affine transformation where the linear transformation is rotation ($A \\space A^{T} = A^{T}A = I$). The geometry of Euclidean symmetry is carried forward. The invariants for affine transformations are points, straight lines, planes, parallelism, ratios of lengths along parallel sides. The invariants for Euclidean transformations are lengths, angles and all the preserved properties of affine transformations. For similarity transformations, the angles, shape and trace of the matrix is invariant.\n",
    "\n",
    "2. Points at infinity are points that are infinitively far away with finite coordinates. In the transformation from Euclidean to Homogenous coordinates, the third coordinate of the vector is made 0, so that when we are going back to Euclidean representation, we divide by 0 and the points are infinitely far. The direction to the point is still maintained, so even if the point is infinitively far away, we can still estimate the direction to that point. This property is useful while working with cameras and infinitely far points.\n",
    "\n",
    "3. Since the transformation from camera frame is post-multiplied and transformation from world frame is pre-multiplied, the transformations are as follows:\n",
    "    $ = T_{i} * T_{1}$\n",
    "    \n",
    "    $ = T_{2} * T_{i} * T_{1}$\n",
    "    \n",
    "    $ = T_{3} * T_{2} * T_{i} * T_{1}$\n",
    "    \n",
    "    $ = T_{3} * T_{2} * T_{i} * T_{1} * T_{4}$\n",
    "    \n",
    "    $ = T_{3} * T_{2} * T_{i} * T_{1} * T_{4} * T_{5}$"
   ]
  },
  {
   "cell_type": "markdown",
   "id": "e5f08d84",
   "metadata": {},
   "source": [
    "# Visualise the Data\n",
    "\n",
    "Point clouds are a collection of points that represent a 3D shape or feature. Each point has its own set of X, Y and Z coordinates and in some cases additional attributes. A popular way to obtain this is by photogrammetry, though here we will use LiDAR data.\n",
    "\n",
    "LiDAR is a remote sensing process which collects measurements used to create 3D models and maps of objects and environments. Using ultraviolet, visible, or near-infrared light, LiDAR gauges spatial relationships and shapes by measuring the time it takes for signals to bounce off objects and return to the scanner.\n",
    "\n",
    "1. Download the data from [here](https://iiitaphyd-my.sharepoint.com/:f:/g/personal/venkata_surya_students_iiit_ac_in/EnYAMaTVIhJItzKYqtahE30BRKB6p6UfHN3TyJzvo6Mw0g?e=PegWds). It contains the LIDAR sensor output and odometry information per frame.\n",
    "\n",
    "    The .bin files contain the 3D point cloud captured by the LIDAR in this format - x, y, z, and reflectance. \n",
    "\n",
    "    The odometry information is given in the `odometry.txt` file, which is a 12 element vector. Reshape each of the first 77 rows to a 3x4 matrix to obtain the pose.\n",
    "    \n",
    "\n",
    "2. Obtain the point cloud from this and visualise for 1-2 frames."
   ]
  },
  {
   "cell_type": "code",
   "execution_count": 3,
   "id": "directed-termination",
   "metadata": {},
   "outputs": [],
   "source": [
    "#Reshaping first 77 rows\n",
    "ground_truth = np.loadtxt('data/odometry.txt')\n",
    "poses = [0]*77\n",
    "for i in range(77):\n",
    "    poses[i] = np.reshape(ground_truth[i], (3,4))"
   ]
  },
  {
   "cell_type": "code",
   "execution_count": 28,
   "id": "87578746",
   "metadata": {},
   "outputs": [],
   "source": [
    "def readPointCloud(file):\n",
    "    pcd = np.fromfile(file, dtype=np.float32,count=-1)\n",
    "    return pcd.reshape([-1,4])"
   ]
  },
  {
   "cell_type": "code",
   "execution_count": 15,
   "id": "270969ec",
   "metadata": {},
   "outputs": [
    {
     "data": {
      "text/plain": [
       "True"
      ]
     },
     "execution_count": 15,
     "metadata": {},
     "output_type": "execute_result"
    }
   ],
   "source": [
    "#Visualizing first frame (LiDAR data from first bin file)\n",
    "pcd1 = o3d.geometry.PointCloud()\n",
    "points = readPointCloud(\"data/LiDAR/000010.bin\")\n",
    "pcd1.points = o3d.utility.Vector3dVector(points[:, :3]) #Taking x,y,z coordinates\n",
    "o3d.visualization.draw_geometries([pcd1])\n",
    "o3d.io.write_point_cloud(\"results/2/pcd1.ply\",pcd1)"
   ]
  },
  {
   "cell_type": "markdown",
   "id": "hairy-riverside",
   "metadata": {},
   "source": [
    "# Transform \n",
    "\n",
    "The point cloud obtained is with respect to the LiDAR frame. The poses however, are in the camera frame. If we want to combine the point clouds from various frames, we need to bring them to the camera frame. \n",
    "\n",
    "1. Refer to the image below and apply the required transformation to the point cloud. \n",
    "\n",
    "2. Then, register all point clouds into a common reference frame and visualise it (Open3D). It is helpful to use homogeneous coordinates to keep track of the different frames.\n",
    "\n",
    "3. Write a function to transform the registered point cloud from the world to the $i^{th}$ camera frame, wherein $i$ is the input to the function.\n",
    "\n",
    "4. \\[Bonus\\] Move around in the registered point cloud using arrow keys like you would do in a game. For this you will have to regularly transform the entire registered world to your current camera frame and visualize repeatedly. You may choose to avoid visualizing points that are behind the camera in this case as they are not visible from the scene. You may also visualize points at a max depth to make the process easier.\n",
    "\n",
    "![](./img/transform.png)"
   ]
  },
  {
   "cell_type": "code",
   "execution_count": 21,
   "id": "second-school",
   "metadata": {},
   "outputs": [],
   "source": [
    "# Function to transform from ith camera frame to 0th camera frame\n",
    "# Vector [0 0 0 1] is appended to end of each pose matrix to make it a 4x4 matrix\n",
    "def cam_i_to_cam_0(i):\n",
    "    T_mat = np.reshape(ground_truth[i][:], (3,4))\n",
    "    extra_row = np.array([0 ,0 , 0, 1])\n",
    "    T_mat = np.vstack((T_mat, extra_row))\n",
    "    return T_mat"
   ]
  },
  {
   "cell_type": "code",
   "execution_count": 26,
   "id": "1e0734d1",
   "metadata": {},
   "outputs": [
    {
     "data": {
      "text/plain": [
       "True"
      ]
     },
     "execution_count": 26,
     "metadata": {},
     "output_type": "execute_result"
    }
   ],
   "source": [
    "# Registering all point clouds to a common world frame and visualizing\n",
    "for i in range(10,87):\n",
    "    pcd = readPointCloud(\"data/LiDAR/\" + str(i).zfill(6) + \".bin\")\n",
    "    shape = pcd.shape[0]\n",
    "    lidar_to_cami = np.array([[0,-1,0,0],[0,0,-1,0],[1,0,0,0],[0,0,0,1]])\n",
    "    ones = np.ones((shape,1))\n",
    "    pcd = np.hstack((pcd[:,:3],ones)) #Converting to homogenous coordinates by adding 4th coordinate of 1\n",
    "    pcd_points = np.dot(np.asarray(pcd),lidar_to_cami.T) #LiDAR to ith camera frame\n",
    "    i_to_0_mat = cam_i_to_cam_0(i - 10) #Taking first 77 rows\n",
    "    pcd_points = np.dot(pcd_points, i_to_0_mat.T) #ith camera frame to 0th camera frame\n",
    "    cam0_to_world = np.array([[0,0,1,0],[-1,0,0,0],[0,-1,0,0],[0,0,0,1]])\n",
    "    pcd_points = np.dot(pcd_points, cam0_to_world.T) #0th camera frame to world frame\n",
    "\n",
    "    pcd = o3d.geometry.PointCloud()\n",
    "    pcd.points = o3d.utility.Vector3dVector(pcd_points[:,:3])\n",
    "    if i==10:\n",
    "        pcd_final = o3d.geometry.PointCloud()\n",
    "        pcd_final += pcd\n",
    "    else:\n",
    "        pcd_final += pcd\n",
    "final_pcd = pcd_final.voxel_down_sample(voxel_size = 0.5)\n",
    "o3d.visualization.draw_geometries([final_pcd])\n",
    "o3d.io.write_point_cloud(\"results/3/final_pcd.ply\", final_pcd)"
   ]
  },
  {
   "cell_type": "code",
   "execution_count": 27,
   "id": "ae77c1b9",
   "metadata": {},
   "outputs": [],
   "source": [
    "#Function to transform registered point cloud from world to i'th camera frame\n",
    "def world_to_cam_i(i):\n",
    "    final_pcd = np.asarray(o3d.io.read_point_cloud(\"results/3/final_pcd.ply\").points).reshape([-1, 4])\n",
    "    world_to_cam0 = np.array([[0,-1,0,0],[0,0,-1,0],[1,0,0,0],[0,0,0,1]])\n",
    "    shape = final_pcd.shape[0]\n",
    "    ones = np.ones((shape,1))\n",
    "    final_pcd = np.hstack((final_pcd[:,:3],ones)) #Converting to homogenous coordinates by adding 4th coordinate of 1\n",
    "    final_pcd_points = np.asarray(final_pcd)\n",
    "    final_pcd_points = np.dot(final_pcd_points, world_to_cam0.T) #World to 0th camera frame\n",
    "    zero_to_i_mat = np.linalg.inv(cam_i_to_cam_0(i))\n",
    "    final_pcd_points = np.dot(final_pcd_points, zero_to_i_mat.T)\n",
    "    pcd = o3d.geometry.PointCloud()\n",
    "    pcd.points = o3d.utility.Vector3dVector(final_pcd_points[:, :3])\n",
    "    return pcd"
   ]
  },
  {
   "cell_type": "markdown",
   "id": "personal-divorce",
   "metadata": {},
   "source": [
    "# Occupancy Map"
   ]
  },
  {
   "cell_type": "markdown",
   "id": "overhead-discussion",
   "metadata": {},
   "source": [
    "Occupancy grid maps are discrete fine grain grid maps. These maps can be either 2-D or 3-D. Each cell in the occupancy grid map contains information on the physical objects present in the corresponding space. Since these maps shed light on what parts of the environment are occupied, and what is not, they are really useful for path planning and navigation.\n",
    "\n",
    "Occupancy grid maps are probabilistic in nature due to noisy measurements. Each cell can have three states: Occupied, unoccupied, and unknown. For the purpose of this assignment, you can ignore the unknown and work in a binary setting where 1 is occupied and 0 is unoccupied."
   ]
  },
  {
   "cell_type": "markdown",
   "id": "rental-display",
   "metadata": {},
   "source": [
    "1. The task here is to create an occupancy map for each LiDAR scan. You do not need to apply bayesian update rules here, just keep it simple. \n",
    "\n",
    "2. Now, using the *registered* point cloud, generate occupancy maps for each frame. What difference do you expect to see between the two methods?\n",
    "\n",
    "You can mark a cell as occupied based on a threshold of how many different z values are there for a particular (x,y) cell."
   ]
  },
  {
   "cell_type": "code",
   "execution_count": 6,
   "id": "collected-oklahoma",
   "metadata": {},
   "outputs": [],
   "source": [
    "#Function to compute map for a given point cloud\n",
    "def computeMap(pcd):\n",
    "    pcd_rounded = np.round(np.asarray(pcd.points))\n",
    "    pcd_table = pd.DataFrame(data = pcd_rounded,columns=['x','y','z'])\n",
    "    pcd_table.drop_duplicates(subset = ['y','x','z'],inplace=True)\n",
    "    count = pcd_table.groupby(['x','y']).count()\n",
    "    point = pcd_table.groupby(['x','y']).count().index\n",
    "    pcd_table_2 = pd.DataFrame({'Point':point.values,'Count':count['z']})\n",
    "    pcd_table_2.reset_index(drop=True,inplace=True)\n",
    "    points_array = pcd_table_2['Point'].values\n",
    "    img = np.zeros((400,400,1), np.uint8)\n",
    "    l = len(points_array)\n",
    "    for j in range(l):\n",
    "        ind = (points_array[j][0] + 200,points_array[j][1]+ 200)\n",
    "        count = pcd_table_2.iloc[j,1]\n",
    "        if (count>2):\n",
    "            img[int(ind[0])][int(ind[1])] = 1\n",
    "    return img"
   ]
  },
  {
   "cell_type": "code",
   "execution_count": 28,
   "id": "68f06093",
   "metadata": {},
   "outputs": [],
   "source": [
    "#Creating occupancy maps for each LiDAR scan\n",
    "for i in range(10,87):\n",
    "    pcd = readPointCloud(\"data/LiDAR/\" + str(i).zfill(6) + \".bin\")\n",
    "    shape = pcd.shape[0]\n",
    "    lidar_to_cami = np.array([[0,-1,0,0],[0,0,-1,0],[1,0,0,0],[0,0,0,1]])\n",
    "    ones = np.ones((shape,1))\n",
    "    pcd = np.hstack((pcd[:,:3],ones)) #Converting to homogenous coordinates by adding 4th coordinate of 1\n",
    "    pcd_points = np.dot(np.asarray(pcd),lidar_to_cami.T) #LiDAR to ith camera frame\n",
    "    i_to_0_mat = cam_i_to_cam_0(i - 10)\n",
    "    pcd_points = np.dot(pcd_points, i_to_0_mat.T) #ith camera frame to 0th camera frame\n",
    "    cam0_to_world = np.array([[0,0,1,0],[-1,0,0,0],[0,-1,0,0],[0,0,0,1]])\n",
    "    pcd_points = np.dot(pcd_points, cam0_to_world.T) #0th camera frame to world frame\n",
    "\n",
    "    pcd = o3d.geometry.PointCloud()\n",
    "    pcd.points = o3d.utility.Vector3dVector(pcd_points[:,:3])\n",
    "   \n",
    "    img = computeMap(pcd)\n",
    "    img = cv.resize(img,(700,700))\n",
    "    filename = 'results/4/4.1/map'+str(i)+'.png'\n",
    "    im = cv.imwrite(filename,img.T*255)"
   ]
  },
  {
   "cell_type": "code",
   "execution_count": 7,
   "id": "0e9ed37b",
   "metadata": {},
   "outputs": [],
   "source": [
    "#Creating occupancy map for registered point cloud\n",
    "for i in range(10,87):\n",
    "    pcd = readPointCloud(\"data/LiDAR/\" + str(i).zfill(6) + \".bin\")\n",
    "    shape = pcd.shape[0]\n",
    "    lidar_to_cami = np.array([[0,-1,0,0],[0,0,-1,0],[1,0,0,0],[0,0,0,1]])\n",
    "    ones = np.ones((shape,1))\n",
    "    pcd = np.hstack((pcd[:,:3],ones)) #Converting to homogenous coordinates by adding 4th coordinate of 1\n",
    "    pcd_points = np.dot(np.asarray(pcd),lidar_to_cami.T) #LiDAR to ith camera frame\n",
    "    i_to_0_mat = cam_i_to_cam_0(i - 10)\n",
    "    pcd_points = np.dot(pcd_points, i_to_0_mat.T) #ith camera frame to 0th camera frame\n",
    "    cam0_to_world = np.array([[0,0,1,0],[-1,0,0,0],[0,-1,0,0],[0,0,0,1]])\n",
    "    pcd_points = np.dot(pcd_points, cam0_to_world.T) #0th camera frame to world frame\n",
    "\n",
    "    pcd = o3d.geometry.PointCloud()\n",
    "    pcd.points = o3d.utility.Vector3dVector(pcd_points[:,:3])\n",
    "    if i==10:\n",
    "        pcd_final = o3d.geometry.PointCloud()\n",
    "        pcd_final += pcd\n",
    "    else:\n",
    "        pcd_final += pcd\n",
    "\n",
    "img = computeMap(pcd_final)\n",
    "img = cv.resize(img,(700,700))\n",
    "filename = 'results/4/4.2/final_map.png'\n",
    "im = cv.imwrite(filename,img.T*255)"
   ]
  },
  {
   "cell_type": "markdown",
   "id": "57181691",
   "metadata": {},
   "source": [
    "## Difference in results\n",
    "\n",
    "In the first case, when occupancy maps are created for single LiDAR scans, the maps appear sparse in terms of white patches. But in the second case when an occupancy map is created for a single registered point cloud, all the LiDAR scans are taken together, and the resultant map is denser since the white patches are more distinct in comparison."
   ]
  }
 ],
 "metadata": {
  "kernelspec": {
   "display_name": "Python 3",
   "language": "python",
   "name": "python3"
  },
  "language_info": {
   "codemirror_mode": {
    "name": "ipython",
    "version": 3
   },
   "file_extension": ".py",
   "mimetype": "text/x-python",
   "name": "python",
   "nbconvert_exporter": "python",
   "pygments_lexer": "ipython3",
   "version": "3.6.9"
  }
 },
 "nbformat": 4,
 "nbformat_minor": 5
}
